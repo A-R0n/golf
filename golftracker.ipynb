{
 "cells": [
  {
   "cell_type": "code",
   "execution_count": 1,
   "metadata": {},
   "outputs": [],
   "source": [
    "import cv2\n",
    "import sys\n",
    "import imutils\n",
    "from imutils.video import FPS\n",
    "import time"
   ]
  },
  {
   "cell_type": "code",
   "execution_count": 2,
   "metadata": {},
   "outputs": [],
   "source": [
    "cap = cv2.VideoCapture('/Users/aaronestes/Downloads/jae16.MOV')"
   ]
  },
  {
   "cell_type": "code",
   "execution_count": 3,
   "metadata": {},
   "outputs": [],
   "source": [
    "tracker_types = ['BOOSTING', 'MIL','KCF', 'TLD', 'MEDIANFLOW', 'CSRT', 'MOSSE', 'GOTURN']"
   ]
  },
  {
   "cell_type": "code",
   "execution_count": 4,
   "metadata": {},
   "outputs": [],
   "source": [
    "tracker = cv2.TrackerTLD_create()"
   ]
  },
  {
   "cell_type": "code",
   "execution_count": 5,
   "metadata": {},
   "outputs": [],
   "source": [
    "ok, frame = cap.read()"
   ]
  },
  {
   "cell_type": "code",
   "execution_count": 6,
   "metadata": {},
   "outputs": [],
   "source": [
    "initBB = None"
   ]
  },
  {
   "cell_type": "code",
   "execution_count": 7,
   "metadata": {},
   "outputs": [],
   "source": [
    "fps = None"
   ]
  },
  {
   "cell_type": "code",
   "execution_count": 8,
   "metadata": {},
   "outputs": [],
   "source": [
    "kernel = cv2.getStructuringElement(cv2.MORPH_ELLIPSE,(3,3))\n",
    "fgbg = cv2.createBackgroundSubtractorMOG2()"
   ]
  },
  {
   "cell_type": "code",
   "execution_count": 9,
   "metadata": {},
   "outputs": [],
   "source": [
    "if not cap.isOpened():\n",
    "    print(\"Could not open video\")\n",
    "    sys.exit()"
   ]
  },
  {
   "cell_type": "code",
   "execution_count": 10,
   "metadata": {},
   "outputs": [],
   "source": [
    "OPENCV_OBJECT_TRACKERS = {\n",
    "    ## CSRT: high accuracy but low frames/second\n",
    "    \"csrt\": cv2.TrackerCSRT_create,\n",
    "    ## KCF: not very good with changes in z axis. does not take risks.\n",
    "    \"kcf\": cv2.TrackerKCF_create,\n",
    "    ## Boosting: the OG algorithm. Displayed the most correct matches for face!\n",
    "    \"boosting\": cv2.TrackerBoosting_create,\n",
    "    ## MIL follows putting green ball.\n",
    "    \"mil\": cv2.TrackerMIL_create,\n",
    "    ## TLD pros: best for club head. Takes the most attempts. The crackhead algorithm.\n",
    "    \"tld\": cv2.TrackerTLD_create,\n",
    "    ## Median Flow: works best when the motion is negligible.\n",
    "    \"medianflow\": cv2.TrackerMedianFlow_create,\n",
    "    ## MOSSE is smooth. Amazing for the putting green ball. increases and decreases in size the best.\n",
    "    \"mosse\": cv2.TrackerMOSSE_create,\n",
    "    ## GOTURN: only downside is objects that blend in to their background.\n",
    "    \"goturn\": cv2.TrackerGOTURN_create\n",
    "}"
   ]
  },
  {
   "cell_type": "code",
   "execution_count": 11,
   "metadata": {},
   "outputs": [],
   "source": [
    "while True:\n",
    "    ok, frame = cap.read()\n",
    "    if frame is None:\n",
    "        break\n",
    "    frame = imutils.resize(frame, width=500)\n",
    "    fgMask = fgbg.apply(frame)\n",
    "    fgMask = cv2.morphologyEx(fgMask, cv2.MORPH_OPEN, kernel)\n",
    "    (H, W) = frame.shape[:2]\n",
    "    if initBB is not None:\n",
    "        (ok, bbox) = tracker.update(frame)\n",
    "        if ok:\n",
    "            (x,y,w,h) = [int(v) for v in bbox]\n",
    "            cv2.rectangle(frame, (x,y), (x + w, y + h), (0,255,0), 2)\n",
    "        fps.update()\n",
    "        fps.stop()\n",
    "    \n",
    "    grayFrame = cv2.cvtColor(frame, cv2.COLOR_BGR2GRAY)\n",
    "    dst = cv2.GaussianBlur(grayFrame,(5,5),cv2.BORDER_DEFAULT)\n",
    "    ## assist the algorithm in processing\n",
    "    cv2.imshow(\"frame\", dst)\n",
    "    \n",
    "    \n",
    "    k = cv2.waitKey(1) & 0xff\n",
    "    if k == ord(\"s\"):\n",
    "        initBB = cv2.selectROI(\"frame\", dst, fromCenter=False, showCrosshair=True)\n",
    "        tracker.init(frame, initBB)\n",
    "        fps = FPS().start()\n",
    "        while True:\n",
    "            k2 = cv2.waitKey(1) or 0xff\n",
    "            cv2.imshow('frame', dst)\n",
    "            if k2 == ord('s'):\n",
    "                break\n",
    "    elif k == ord(\"q\"):\n",
    "        break\n",
    "\n",
    "cap.release()\n",
    "# Closes all the frames \n",
    "cv2.destroyAllWindows()"
   ]
  },
  {
   "cell_type": "code",
   "execution_count": null,
   "metadata": {},
   "outputs": [],
   "source": []
  }
 ],
 "metadata": {
  "kernelspec": {
   "display_name": "Python [conda env:py37] *",
   "language": "python",
   "name": "conda-env-py37-py"
  },
  "language_info": {
   "codemirror_mode": {
    "name": "ipython",
    "version": 3
   },
   "file_extension": ".py",
   "mimetype": "text/x-python",
   "name": "python",
   "nbconvert_exporter": "python",
   "pygments_lexer": "ipython3",
   "version": "3.7.2"
  }
 },
 "nbformat": 4,
 "nbformat_minor": 2
}
